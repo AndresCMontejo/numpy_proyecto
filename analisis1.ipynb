{
  "nbformat": 4,
  "nbformat_minor": 0,
  "metadata": {
    "colab": {
      "provenance": [],
      "authorship_tag": "ABX9TyMvmU2+oKwthakz77vxvVF1",
      "include_colab_link": true
    },
    "kernelspec": {
      "name": "python3",
      "display_name": "Python 3"
    },
    "language_info": {
      "name": "python"
    }
  },
  "cells": [
    {
      "cell_type": "markdown",
      "metadata": {
        "id": "view-in-github",
        "colab_type": "text"
      },
      "source": [
        "<a href=\"https://colab.research.google.com/github/AndresCMontejo/numpy_proyecto/blob/main/analisis1.ipynb\" target=\"_parent\"><img src=\"https://colab.research.google.com/assets/colab-badge.svg\" alt=\"Open In Colab\"/></a>"
      ]
    },
    {
      "cell_type": "code",
      "execution_count": 1,
      "metadata": {
        "id": "ypC57n0ww0_m"
      },
      "outputs": [],
      "source": [
        "import numpy as np"
      ]
    },
    {
      "cell_type": "code",
      "source": [
        "url = 'https://gist.githubusercontent.com/ahcamachod/9be09de793dc3bf1e6c3d98eb4e5b1ef/raw/21b85572693200040e11284ef6dcfc3457ec8e11/citrus.csv'\n",
        "np.arange(1,6,1)"
      ],
      "metadata": {
        "colab": {
          "base_uri": "https://localhost:8080/"
        },
        "id": "fTrmIHvH5MY2",
        "outputId": "69a1fadf-4906-4112-82bd-5dc8d5547b15"
      },
      "execution_count": 3,
      "outputs": [
        {
          "output_type": "execute_result",
          "data": {
            "text/plain": [
              "array([1, 2, 3, 4, 5])"
            ]
          },
          "metadata": {},
          "execution_count": 3
        }
      ]
    },
    {
      "cell_type": "code",
      "source": [
        "info = np.loadtxt(url, delimiter=\",\", usecols = np.arange(1,6,1), skiprows = 1)"
      ],
      "metadata": {
        "id": "6_crYhe-8hUF"
      },
      "execution_count": 4,
      "outputs": []
    },
    {
      "cell_type": "code",
      "source": [
        "#Diametros\n",
        "diametro = info[:,0]\n",
        "diametro\n",
        "\n",
        "#Pesos\n",
        "pesos  = info[:,1]\n",
        "pesos"
      ],
      "metadata": {
        "colab": {
          "base_uri": "https://localhost:8080/"
        },
        "id": "91LyWwXOSvpT",
        "outputId": "f65cff7a-e90a-43d1-9e06-57d47933192e"
      },
      "execution_count": 5,
      "outputs": [
        {
          "output_type": "execute_result",
          "data": {
            "text/plain": [
              "array([ 86.76,  88.05,  95.17, ..., 256.5 , 260.14, 261.51])"
            ]
          },
          "metadata": {},
          "execution_count": 5
        }
      ]
    },
    {
      "cell_type": "code",
      "source": [
        "#Peso y diametro naranjas\n",
        "naranja_peso = pesos[0:4999]\n",
        "naranja_diametro = diametro[0:4999]\n",
        "\n",
        "#Pesos y diametro toronjas\n",
        "toronja_peso = pesos[5000:]\n",
        "toronja_diametro = diametro[5000:]\n"
      ],
      "metadata": {
        "id": "tDB-bFAOTvoi"
      },
      "execution_count": 6,
      "outputs": []
    },
    {
      "cell_type": "code",
      "source": [
        "#Grafica peso y diametro Naranjas, Toronjas\n",
        "import matplotlib.pyplot as plt\n",
        "plt.plot(naranja_peso, naranja_diametro)\n",
        "plt.plot(toronja_peso, toronja_diametro)\n",
        "plt.legend([\"Naranja\", \"Toronja\"])\n",
        "\n"
      ],
      "metadata": {
        "colab": {
          "base_uri": "https://localhost:8080/",
          "height": 447
        },
        "id": "Rm--x4BtUkBa",
        "outputId": "b9cf87c3-1a52-4453-c3f0-0f6a2d5342d7"
      },
      "execution_count": 7,
      "outputs": [
        {
          "output_type": "execute_result",
          "data": {
            "text/plain": [
              "<matplotlib.legend.Legend at 0x79c89e10c910>"
            ]
          },
          "metadata": {},
          "execution_count": 7
        },
        {
          "output_type": "display_data",
          "data": {
            "text/plain": [
              "<Figure size 640x480 with 1 Axes>"
            ],
            "image/png": "[encoded data removed]"
          },
          "metadata": {}
        }
      ]
    },
    {
      "cell_type": "markdown",
      "source": [
        "$$\\alpha = pendiente$$\n",
        "$$\\beta =  intersección$$\n",
        "$$n = observaciones$$\n",
        "$$y = precio$$\n",
        "$$x = fecha$$\n",
        "\n",
        "La solución para la pendiente es:\n",
        "$$\\alpha = \\frac{n \\sum xy - \\sum x \\sum y}{n \\sum x^2 - (\\sum x)^2}$$\n",
        "\n",
        "Y para la intersección:\n",
        "$$\\beta = \\frac{\\sum y - \\alpha \\sum x}{n}$$\n",
        "\n",
        "Y obtenemos la ecuación de la recta:\n",
        "$$y = \\alpha x + \\beta$$"
      ],
      "metadata": {
        "id": "nBgOldWF-ndW"
      }
    },
    {
      "cell_type": "code",
      "source": [
        "n = np.size(naranja_peso) #(size es para saber el tamaño, similar a len)\n",
        "y = naranja_diametro\n",
        "x = naranja_peso\n",
        "a = (n*np.sum(x*y) - np.sum(x)*np.sum(y)) / (n*np.sum(x**2) - np.sum(x)**2)\n",
        "b = (np.sum(y) - a*np.sum(x)) / n\n",
        "y = a*x + b\n",
        "np.linalg.norm(naranja_diametro - y) #np.linalg.norm en Python, específicamente en la librería NumPy, se utiliza para calcular la norma de un vector o matriz. En otras palabras, calcula la magnitud o longitud de un vector o el tamaño de una matriz.\n"
      ],
      "metadata": {
        "id": "DpEbc50U-tZO",
        "outputId": "d7f65a34-b820-44f0-a90a-2bbc89242f8a",
        "colab": {
          "base_uri": "https://localhost:8080/"
        }
      },
      "execution_count": 10,
      "outputs": [
        {
          "output_type": "execute_result",
          "data": {
            "text/plain": [
              "np.float64(2.9990047506196524)"
            ]
          },
          "metadata": {},
          "execution_count": 10
        }
      ]
    },
    {
      "cell_type": "code",
      "source": [
        "plt.plot(naranja_peso, naranja_diametro)\n",
        "plt.plot(x,y)\n",
        "plt.plot(216, a*216 + b, '*r')  #aqui especificamos un peso al azar de la naranja, para saber cuanto es el diametro de ese peso en especifico"
      ],
      "metadata": {
        "id": "8eCiPozLG2xN",
        "outputId": "63eaf6d5-60b4-46b7-ddb8-7ac292e9fe2e",
        "colab": {
          "base_uri": "https://localhost:8080/",
          "height": 447
        }
      },
      "execution_count": 14,
      "outputs": [
        {
          "output_type": "execute_result",
          "data": {
            "text/plain": [
              "[<matplotlib.lines.Line2D at 0x79c8791398d0>]"
            ]
          },
          "metadata": {},
          "execution_count": 14
        },
        {
          "output_type": "display_data",
          "data": {
            "text/plain": [
              "<Figure size 640x480 with 1 Axes>"
            ],
            "image/png": "[encoded data removed]"
          },
          "metadata": {}
        }
      ]
    },
    {
      "cell_type": "code",
      "source": [
        "a*216 + b #si utilizamos esta pequeña formula, nos dará el diametro especifico de la fruta con el peso 216\n"
      ],
      "metadata": {
        "id": "Waig-Wx7HOk1",
        "outputId": "f859fb80-e6b5-4f69-fd5e-460f5ffcdaf8",
        "colab": {
          "base_uri": "https://localhost:8080/"
        }
      },
      "execution_count": 17,
      "outputs": [
        {
          "output_type": "execute_result",
          "data": {
            "text/plain": [
              "np.float64(12.741884150224479)"
            ]
          },
          "metadata": {},
          "execution_count": 17
        }
      ]
    }
  ]
}