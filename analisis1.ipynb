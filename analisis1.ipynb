{
  "nbformat": 4,
  "nbformat_minor": 0,
  "metadata": {
    "colab": {
      "provenance": [],
      "authorship_tag": "ABX9TyNWi9A5PPewRiENqrFVI/9D",
      "include_colab_link": true
    },
    "kernelspec": {
      "name": "python3",
      "display_name": "Python 3"
    },
    "language_info": {
      "name": "python"
    }
  },
  "cells": [
    {
      "cell_type": "markdown",
      "metadata": {
        "id": "view-in-github",
        "colab_type": "text"
      },
      "source": [
        "<a href=\"https://colab.research.google.com/github/AndresCMontejo/numpy_proyecto/blob/main/analisis1.ipynb\" target=\"_parent\"><img src=\"https://colab.research.google.com/assets/colab-badge.svg\" alt=\"Open In Colab\"/></a>"
      ]
    },
    {
      "cell_type": "code",
      "execution_count": 7,
      "metadata": {
        "id": "ypC57n0ww0_m"
      },
      "outputs": [],
      "source": [
        "import numpy as np"
      ]
    },
    {
      "cell_type": "code",
      "source": [
        "url = 'https://gist.githubusercontent.com/ahcamachod/9be09de793dc3bf1e6c3d98eb4e5b1ef/raw/21b85572693200040e11284ef6dcfc3457ec8e11/citrus.csv'\n",
        "np.arange(1,6,1)"
      ],
      "metadata": {
        "colab": {
          "base_uri": "https://localhost:8080/"
        },
        "id": "fTrmIHvH5MY2",
        "outputId": "9aefa1c0-66a8-494b-ddc8-f12b027eca7c"
      },
      "execution_count": 8,
      "outputs": [
        {
          "output_type": "execute_result",
          "data": {
            "text/plain": [
              "array([1, 2, 3, 4, 5])"
            ]
          },
          "metadata": {},
          "execution_count": 8
        }
      ]
    },
    {
      "cell_type": "code",
      "source": [
        "info = np.loadtxt(url, delimiter=\",\", usecols = np.arange(1,6,1), skiprows = 1)"
      ],
      "metadata": {
        "id": "6_crYhe-8hUF"
      },
      "execution_count": 9,
      "outputs": []
    },
    {
      "cell_type": "code",
      "source": [
        "#Diametros\n",
        "diametro = info[:,0]\n",
        "diametro\n",
        "\n",
        "#Pesos\n",
        "pesos  = info[:,1]\n",
        "pesos"
      ],
      "metadata": {
        "id": "91LyWwXOSvpT",
        "outputId": "b87ab430-75af-4ee3-e18b-96f1dee66991",
        "colab": {
          "base_uri": "https://localhost:8080/"
        }
      },
      "execution_count": 13,
      "outputs": [
        {
          "output_type": "execute_result",
          "data": {
            "text/plain": [
              "array([ 86.76,  88.05,  95.17, ..., 256.5 , 260.14, 261.51])"
            ]
          },
          "metadata": {},
          "execution_count": 13
        }
      ]
    },
    {
      "cell_type": "code",
      "source": [
        "#Peso y diametro naranjas\n",
        "naranja_peso = pesos[0:4999]\n",
        "naranja_diametro = diametro[0:4999]\n",
        "\n",
        "#Pesos y diametro toronjas\n",
        "toronja_peso = pesos[5000:]\n",
        "toronja_diametro = diametro[5000:]\n"
      ],
      "metadata": {
        "id": "tDB-bFAOTvoi"
      },
      "execution_count": 14,
      "outputs": []
    },
    {
      "cell_type": "code",
      "source": [
        "#Grafica peso y diametro Naranjas\n",
        "import matplotlib.pyplot as plt\n",
        "plt.plot(naranja_peso, naranja_diametro)\n",
        "plt.legend([\"Peso\", \"Diametro\"])\n",
        "#Grafica peso y diametro Toronjas\n",
        "plt.plot(toronja_peso, toronja_diametro)\n",
        "plt.legend([\"Peso\", \"Diametro\"])\n"
      ],
      "metadata": {
        "id": "Rm--x4BtUkBa",
        "outputId": "d4d94199-4a92-46d6-d9f2-f54cb029bf65",
        "colab": {
          "base_uri": "https://localhost:8080/",
          "height": 447
        }
      },
      "execution_count": 18,
      "outputs": [
        {
          "output_type": "execute_result",
          "data": {
            "text/plain": [
              "<matplotlib.legend.Legend at 0x7889c84d3450>"
            ]
          },
          "metadata": {},
          "execution_count": 18
        },
        {
          "output_type": "display_data",
          "data": {
            "text/plain": [
              "<Figure size 640x480 with 1 Axes>"
            ],
            "image/png": "[encoded data removed]"
          },
          "metadata": {}
        }
      ]
    }
  ]
}