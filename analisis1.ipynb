{
  "nbformat": 4,
  "nbformat_minor": 0,
  "metadata": {
    "colab": {
      "provenance": [],
      "authorship_tag": "ABX9TyOqT38MpExLlL6ezuh4MKTC",
      "include_colab_link": true
    },
    "kernelspec": {
      "name": "python3",
      "display_name": "Python 3"
    },
    "language_info": {
      "name": "python"
    }
  },
  "cells": [
    {
      "cell_type": "markdown",
      "metadata": {
        "id": "view-in-github",
        "colab_type": "text"
      },
      "source": [
        "<a href=\"https://colab.research.google.com/github/AndresCMontejo/numpy_proyecto/blob/main/analisis1.ipynb\" target=\"_parent\"><img src=\"https://colab.research.google.com/assets/colab-badge.svg\" alt=\"Open In Colab\"/></a>"
      ]
    },
    {
      "cell_type": "code",
      "execution_count": 24,
      "metadata": {
        "id": "ypC57n0ww0_m"
      },
      "outputs": [],
      "source": [
        "import numpy as np"
      ]
    },
    {
      "cell_type": "code",
      "source": [
        "url = 'https://gist.githubusercontent.com/ahcamachod/9be09de793dc3bf1e6c3d98eb4e5b1ef/raw/21b85572693200040e11284ef6dcfc3457ec8e11/citrus.csv'\n",
        "np.arange(1,6,1)"
      ],
      "metadata": {
        "colab": {
          "base_uri": "https://localhost:8080/"
        },
        "id": "fTrmIHvH5MY2",
        "outputId": "8c2262a7-22fc-4976-972c-c2df393198e7"
      },
      "execution_count": 23,
      "outputs": [
        {
          "output_type": "execute_result",
          "data": {
            "text/plain": [
              "array([1, 2, 3, 4, 5])"
            ]
          },
          "metadata": {},
          "execution_count": 23
        }
      ]
    },
    {
      "cell_type": "code",
      "source": [
        "info = np.loadtxt(url, delimiter=\",\", usecols = np.arange(1,6,1), skiprows = 1)"
      ],
      "metadata": {
        "id": "6_crYhe-8hUF"
      },
      "execution_count": 22,
      "outputs": []
    },
    {
      "cell_type": "code",
      "source": [
        "#Diametros\n",
        "diametro = info[:,0]\n",
        "diametro\n",
        "\n",
        "#Pesos\n",
        "pesos  = info[:,1]\n",
        "pesos"
      ],
      "metadata": {
        "colab": {
          "base_uri": "https://localhost:8080/"
        },
        "id": "91LyWwXOSvpT",
        "outputId": "592160bb-da22-4990-f234-8e67f3f5ede7"
      },
      "execution_count": 21,
      "outputs": [
        {
          "output_type": "execute_result",
          "data": {
            "text/plain": [
              "array([ 86.76,  88.05,  95.17, ..., 256.5 , 260.14, 261.51])"
            ]
          },
          "metadata": {},
          "execution_count": 21
        }
      ]
    },
    {
      "cell_type": "code",
      "source": [
        "#Peso y diametro naranjas\n",
        "naranja_peso = pesos[0:4999]\n",
        "naranja_diametro = diametro[0:4999]\n",
        "\n",
        "#Pesos y diametro toronjas\n",
        "toronja_peso = pesos[5000:]\n",
        "toronja_diametro = diametro[5000:]\n"
      ],
      "metadata": {
        "id": "tDB-bFAOTvoi"
      },
      "execution_count": 20,
      "outputs": []
    },
    {
      "cell_type": "code",
      "source": [
        "#Grafica peso y diametro Naranjas, Toronjas\n",
        "import matplotlib.pyplot as plt\n",
        "plt.plot(naranja_peso, naranja_diametro)\n",
        "plt.plot(toronja_peso, toronja_diametro)\n",
        "plt.legend([\"Naranja\", \"Toronja\"])\n",
        "\n"
      ],
      "metadata": {
        "colab": {
          "base_uri": "https://localhost:8080/",
          "height": 447
        },
        "id": "Rm--x4BtUkBa",
        "outputId": "f457b535-ebeb-442f-8e13-518d799c7a59"
      },
      "execution_count": 31,
      "outputs": [
        {
          "output_type": "execute_result",
          "data": {
            "text/plain": [
              "<matplotlib.legend.Legend at 0x7889c605b210>"
            ]
          },
          "metadata": {},
          "execution_count": 31
        },
        {
          "output_type": "display_data",
          "data": {
            "text/plain": [
              "<Figure size 640x480 with 1 Axes>"
            ],
            "image/png": "[encoded data removed]"
          },
          "metadata": {}
        }
      ]
    }
  ]
}